{
 "cells": [
  {
   "cell_type": "code",
   "execution_count": 1,
   "id": "7ca73215",
   "metadata": {},
   "outputs": [],
   "source": [
    "import os\n",
    "import cv2\n",
    "import numpy as np\n",
    "import pandas as pd\n",
    "from PIL import Image, ImageEnhance\n",
    "from random import randint, uniform, choice\n",
    "from tqdm import tqdm"
   ]
  },
  {
   "cell_type": "code",
   "execution_count": 2,
   "id": "f3218eaf",
   "metadata": {},
   "outputs": [],
   "source": [
    "# === Config ===\n",
    "INPUT_DIR = \"synthetic_motifs/images\"\n",
    "OUTPUT_DIR = \"synthetic_motifs/augmented\"\n",
    "N_VARIANTS = 10\n",
    "IMG_SIZE = 224  # Output crop size"
   ]
  },
  {
   "cell_type": "code",
   "execution_count": 3,
   "id": "abaca25e",
   "metadata": {},
   "outputs": [],
   "source": [
    "os.makedirs(OUTPUT_DIR, exist_ok=True)"
   ]
  },
  {
   "cell_type": "code",
   "execution_count": 4,
   "id": "9ba4077f",
   "metadata": {},
   "outputs": [],
   "source": [
    "# Load original metadata\n",
    "df = pd.read_csv(\"synthetic_motifs/metadata.csv\")\n",
    "\n",
    "augmented_records = []"
   ]
  },
  {
   "cell_type": "code",
   "execution_count": 5,
   "id": "8bc3d4c9",
   "metadata": {},
   "outputs": [],
   "source": [
    "def random_augment(img_np):\n",
    "    # Random rotation\n",
    "    angle = randint(0, 360)\n",
    "    M = cv2.getRotationMatrix2D((img_np.shape[1]//2, img_np.shape[0]//2), angle, 1)\n",
    "    img = cv2.warpAffine(img_np, M, (img_np.shape[1], img_np.shape[0]), borderValue=0)\n",
    "\n",
    "    # Random crop\n",
    "    max_offset = img.shape[0] - IMG_SIZE\n",
    "    x = randint(0, max_offset)\n",
    "    y = randint(0, max_offset)\n",
    "    img = img[y:y+IMG_SIZE, x:x+IMG_SIZE]\n",
    "\n",
    "    # Random brightness/contrast\n",
    "    brightness = uniform(0.8, 1.2)\n",
    "    contrast = uniform(0.8, 1.2)\n",
    "    img = np.clip(img * contrast + (brightness - 1) * 128, 0, 255).astype(np.uint8)\n",
    "\n",
    "    # Add Gaussian noise\n",
    "    if uniform(0, 1) > 0.7:\n",
    "        noise = np.random.normal(0, 10, img.shape).astype(np.uint8)\n",
    "        img = cv2.add(img, noise)\n",
    "\n",
    "    # Flip\n",
    "    if uniform(0, 1) > 0.5:\n",
    "        img = cv2.flip(img, 1)\n",
    "\n",
    "    return img"
   ]
  },
  {
   "cell_type": "code",
   "execution_count": 6,
   "id": "1a508850",
   "metadata": {},
   "outputs": [],
   "source": [
    "motif_metadata_map = {\n",
    "    \"zigzag\": {\n",
    "        \"culture\": \"Mierzanowice\", \"phase\": \"2300–1800 BCE\", \"region\": \"Central Poland\"\n",
    "    },\n",
    "    \"chevron\": {\n",
    "        \"culture\": \"Trzciniec\", \"phase\": \"1900–1200 BCE\", \"region\": \"East-Central Europe\"\n",
    "    },\n",
    "    \"spiral\": {\n",
    "        \"culture\": \"Pre-Lusatian\", \"phase\": \"1500–1300 BCE\", \"region\": \"Lower Silesia\"\n",
    "    },\n",
    "    \"crosshatch\": {\n",
    "        \"culture\": \"Funnelbeaker\", \"phase\": \"3400–2800 BCE\", \"region\": \"North Poland\"\n",
    "    },\n",
    "    \"dotted\": {\n",
    "        \"culture\": \"Corded Ware\", \"phase\": \"2900–2300 BCE\", \"region\": \"Masovia\"\n",
    "    },\n",
    "    \"horizontal_lines\": {\n",
    "        \"culture\": \"Unetice\", \"phase\": \"2200–1600 BCE\", \"region\": \"Southwestern Poland\"\n",
    "    },\n",
    "    \"vertical_lines\": {\n",
    "        \"culture\": \"Globular Amphora\", \"phase\": \"3100–2700 BCE\", \"region\": \"Eastern Poland\"\n",
    "    },\n",
    "    \"meander\": {\n",
    "        \"culture\": \"Lusatian\", \"phase\": \"1300–500 BCE\", \"region\": \"Western Poland\"\n",
    "    },\n",
    "    \"wave\": {\n",
    "        \"culture\": \"Złota Culture\", \"phase\": \"3000–2600 BCE\", \"region\": \"Vistula Basin\"\n",
    "    },\n",
    "    \"comb\": {\n",
    "        \"culture\": \"Narva\", \"phase\": \"4200–3200 BCE\", \"region\": \"Baltic Coast\"\n",
    "    }\n",
    "}\n",
    "\n",
    "decoration_map = {\n",
    "    \"zigzag\": \"incised\", \"chevron\": \"incised\", \"spiral\": \"incised\",\n",
    "    \"crosshatch\": \"incised\", \"dotted\": \"impressed\",\n",
    "    \"horizontal_lines\": \"incised\", \"vertical_lines\": \"incised\",\n",
    "    \"meander\": \"incised\", \"wave\": \"painted\", \"comb\": \"corded\"\n",
    "}\n",
    "\n",
    "vessel_parts = [\"rim\", \"neck\", \"shoulder\", \"body\", \"base\"]\n",
    "vessel_types = [\"bowl\", \"beaker\", \"amphora\", \"jar\"]\n",
    "chronological_phases = [\"3000–2500 BCE\", \"2500–2000 BCE\", \"2000–1800 BCE\"]"
   ]
  },
  {
   "cell_type": "code",
   "execution_count": 7,
   "id": "b199ca71",
   "metadata": {},
   "outputs": [
    {
     "name": "stderr",
     "output_type": "stream",
     "text": [
      "100%|██████████| 100/100 [00:02<00:00, 43.12it/s]\n"
     ]
    }
   ],
   "source": [
    "# === Augment ===\n",
    "for _, row in tqdm(df.iterrows(), total=len(df)):\n",
    "    fname = row['image_id']\n",
    "    motif = row['motif_style']\n",
    "    orig_img_path = os.path.join(INPUT_DIR, fname)\n",
    "    base_img = cv2.imread(orig_img_path, cv2.IMREAD_GRAYSCALE)\n",
    "\n",
    "    for i in range(N_VARIANTS):\n",
    "        aug_img = random_augment(base_img)\n",
    "        aug_fname = f\"{fname[:-4]}_aug{i}.png\"\n",
    "        aug_path = os.path.join(OUTPUT_DIR, aug_fname)\n",
    "        cv2.imwrite(aug_path, aug_img)\n",
    "\n",
    "        # Get motif-specific metadata\n",
    "        meta = motif_metadata_map.get(motif, {})\n",
    "        culture = meta.get(\"culture\", \"UnknownCulture\")\n",
    "        phase = meta.get(\"phase\", \"UnknownPeriod\")\n",
    "        region = meta.get(\"region\", \"UnknownRegion\")\n",
    "\n",
    "        augmented_records.append({\n",
    "            \"image_id\": aug_fname,\n",
    "            \"original_image\": fname,\n",
    "            \"motif_style\": motif,\n",
    "            \"decoration_type\": decoration_map.get(motif, \"unknown\"),\n",
    "            \"vessel_part\": choice(vessel_parts),\n",
    "            \"vessel_type\": choice(vessel_types),\n",
    "            \"culture\": culture,\n",
    "            \"chronological_phase\": phase,\n",
    "            \"region\": region,\n",
    "            \"site\": f\"VirtualSite_{randint(1,5):03d}\",\n",
    "            \"source\": \"synthetic_generator\",\n",
    "            \"annotator\": \"auto\",\n",
    "            \"comments\": \"synthetic sample\"\n",
    "        })"
   ]
  },
  {
   "cell_type": "code",
   "execution_count": 8,
   "id": "edf0d3ce",
   "metadata": {},
   "outputs": [
    {
     "name": "stdout",
     "output_type": "stream",
     "text": [
      "✅ Augmentation complete. Total images: 1000\n"
     ]
    }
   ],
   "source": [
    "# Save augmented metadata\n",
    "aug_df = pd.DataFrame(augmented_records)\n",
    "aug_df.to_csv(os.path.join(OUTPUT_DIR, \"augmented_metadata.csv\"), index=False)\n",
    "\n",
    "print(\"✅ Augmentation complete. Total images:\", len(aug_df))\n"
   ]
  }
 ],
 "metadata": {
  "kernelspec": {
   "display_name": "inb-poc",
   "language": "python",
   "name": "python3"
  },
  "language_info": {
   "codemirror_mode": {
    "name": "ipython",
    "version": 3
   },
   "file_extension": ".py",
   "mimetype": "text/x-python",
   "name": "python",
   "nbconvert_exporter": "python",
   "pygments_lexer": "ipython3",
   "version": "3.10.18"
  }
 },
 "nbformat": 4,
 "nbformat_minor": 5
}
