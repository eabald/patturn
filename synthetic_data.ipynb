{
 "cells": [
  {
   "cell_type": "code",
   "execution_count": null,
   "id": "f9a7ee4f",
   "metadata": {},
   "outputs": [],
   "source": [
    "import os\n",
    "import cv2\n",
    "import numpy as np\n",
    "import pandas as pd\n",
    "from PIL import Image, ImageDraw\n",
    "from random import randint, uniform"
   ]
  },
  {
   "cell_type": "code",
   "execution_count": 2,
   "id": "52d80a01",
   "metadata": {},
   "outputs": [],
   "source": [
    "# === Config ===\n",
    "OUTPUT_DIR = \"synthetic_motifs\"\n",
    "IMG_SIZE = 512\n",
    "IMAGES_PER_CLASS = 10\n",
    "motif_classes = [\n",
    "    \"zigzag\", \"chevron\", \"spiral\", \"crosshatch\", \"dotted\",\n",
    "    \"horizontal_lines\", \"vertical_lines\", \"meander\", \"wave\", \"comb\"\n",
    "]"
   ]
  },
  {
   "cell_type": "code",
   "execution_count": 3,
   "id": "fcb0c8f2",
   "metadata": {},
   "outputs": [],
   "source": [
    "os.makedirs(os.path.join(OUTPUT_DIR, \"images\"), exist_ok=True)\n",
    "\n",
    "metadata = []"
   ]
  },
  {
   "cell_type": "code",
   "execution_count": 4,
   "id": "8fae2211",
   "metadata": {},
   "outputs": [],
   "source": [
    "def draw_zigzag(draw):\n",
    "    spacing = randint(40, 80)\n",
    "    for y in range(0, IMG_SIZE, spacing):\n",
    "        points = [(x, y + (x % (2 * spacing))) for x in range(0, IMG_SIZE, spacing)]\n",
    "        draw.line(points, fill=255, width=randint(5, 15))\n",
    "\n",
    "def draw_chevron(draw):\n",
    "    spacing = randint(40, 80)\n",
    "    for y in range(0, IMG_SIZE, spacing):\n",
    "        for x in range(0, IMG_SIZE, spacing*2):\n",
    "            draw.line([(x, y), (x + spacing, y + spacing), (x + 2*spacing, y)], fill=255, width=randint(5, 15))\n",
    "\n",
    "def draw_spiral(draw):\n",
    "    center = (IMG_SIZE // 2, IMG_SIZE // 2)\n",
    "    r = 10\n",
    "    angle = 0\n",
    "    points = []\n",
    "    while r < IMG_SIZE // 2:\n",
    "        x = int(center[0] + r * np.cos(angle))\n",
    "        y = int(center[1] + r * np.sin(angle))\n",
    "        points.append((x, y))\n",
    "        r += 0.5\n",
    "        angle += 0.1\n",
    "    draw.line(points, fill=255, width=8)\n",
    "\n",
    "def draw_crosshatch(draw):\n",
    "    spacing = randint(30, 70)\n",
    "    for i in range(0, IMG_SIZE, spacing):\n",
    "        draw.line([(i, 0), (0, i)], fill=255, width=randint(5, 10))\n",
    "        draw.line([(IMG_SIZE, i), (i, IMG_SIZE)], fill=255, width=randint(5, 10))\n",
    "\n",
    "def draw_dotted(draw):\n",
    "    spacing = randint(40, 80)\n",
    "    for y in range(0, IMG_SIZE, spacing):\n",
    "        for x in range(0, IMG_SIZE, spacing):\n",
    "            radius = randint(5, 15)\n",
    "            draw.ellipse([x-radius, y-radius, x+radius, y+radius], fill=255)\n",
    "\n",
    "def draw_horizontal_lines(draw):\n",
    "    spacing = randint(30, 80)\n",
    "    for y in range(0, IMG_SIZE, spacing):\n",
    "        draw.line([(0, y), (IMG_SIZE, y)], fill=255, width=randint(5, 10))\n",
    "\n",
    "def draw_vertical_lines(draw):\n",
    "    spacing = randint(30, 80)\n",
    "    for x in range(0, IMG_SIZE, spacing):\n",
    "        draw.line([(x, 0), (x, IMG_SIZE)], fill=255, width=randint(5, 10))\n",
    "\n",
    "def draw_meander(draw):\n",
    "    spacing = randint(50, 100)\n",
    "    for y in range(0, IMG_SIZE, spacing * 2):\n",
    "        for x in range(0, IMG_SIZE, spacing * 2):\n",
    "            draw.rectangle([x, y, x + spacing, y + spacing], outline=255, width=randint(5, 10))\n",
    "\n",
    "def draw_wave(draw):\n",
    "    amplitude = randint(20, 50)\n",
    "    frequency = uniform(0.01, 0.03)\n",
    "    for y_offset in range(0, IMG_SIZE, 100):\n",
    "        points = [(x, int(IMG_SIZE//2 + amplitude * np.sin(frequency * x + y_offset))) for x in range(0, IMG_SIZE)]\n",
    "        draw.line(points, fill=255, width=randint(5, 10))\n",
    "\n",
    "def draw_comb(draw):\n",
    "    base_y = IMG_SIZE // 2\n",
    "    spacing = randint(40, 80)\n",
    "    draw.line([(0, base_y), (IMG_SIZE, base_y)], fill=255, width=randint(5, 10))\n",
    "    for x in range(0, IMG_SIZE, spacing):\n",
    "        draw.line([(x, base_y), (x, base_y - spacing)], fill=255, width=randint(5, 10))"
   ]
  },
  {
   "cell_type": "code",
   "execution_count": 5,
   "id": "ea9d4dcc",
   "metadata": {},
   "outputs": [],
   "source": [
    "motif_functions = {\n",
    "    \"zigzag\": draw_zigzag,\n",
    "    \"chevron\": draw_chevron,\n",
    "    \"spiral\": draw_spiral,\n",
    "    \"crosshatch\": draw_crosshatch,\n",
    "    \"dotted\": draw_dotted,\n",
    "    \"horizontal_lines\": draw_horizontal_lines,\n",
    "    \"vertical_lines\": draw_vertical_lines,\n",
    "    \"meander\": draw_meander,\n",
    "    \"wave\": draw_wave,\n",
    "    \"comb\": draw_comb,\n",
    "}"
   ]
  },
  {
   "cell_type": "code",
   "execution_count": 6,
   "id": "5508ee62",
   "metadata": {},
   "outputs": [],
   "source": [
    "# === Generate Images ===\n",
    "for motif in motif_classes:\n",
    "    for i in range(IMAGES_PER_CLASS):\n",
    "        img = Image.new(\"L\", (IMG_SIZE, IMG_SIZE), 0)\n",
    "        draw = ImageDraw.Draw(img)\n",
    "        motif_functions[motif](draw)\n",
    "\n",
    "        # Simulate aging/wear\n",
    "        img_np = np.array(img)\n",
    "        img_np = cv2.GaussianBlur(img_np, (5, 5), 0)\n",
    "        _, img_np = cv2.threshold(img_np, 30, 255, cv2.THRESH_BINARY)\n",
    "        img_out = Image.fromarray(img_np)\n",
    "\n",
    "        fname = f\"{motif}_{i:03d}.png\"\n",
    "        img_out.save(os.path.join(OUTPUT_DIR, \"images\", fname))\n",
    "        metadata.append({\n",
    "            \"image_id\": fname,\n",
    "            \"motif_style\": motif\n",
    "        })"
   ]
  },
  {
   "cell_type": "code",
   "execution_count": 7,
   "id": "33b8486a",
   "metadata": {},
   "outputs": [
    {
     "name": "stdout",
     "output_type": "stream",
     "text": [
      "✅ Synthetic dataset generated.\n"
     ]
    }
   ],
   "source": [
    "# === Save Metadata ===\n",
    "df = pd.DataFrame(metadata)\n",
    "df.to_csv(os.path.join(OUTPUT_DIR, \"metadata.csv\"), index=False)\n",
    "\n",
    "print(\"✅ Synthetic dataset generated.\")\n"
   ]
  }
 ],
 "metadata": {
  "kernelspec": {
   "display_name": "inb-poc",
   "language": "python",
   "name": "python3"
  },
  "language_info": {
   "codemirror_mode": {
    "name": "ipython",
    "version": 3
   },
   "file_extension": ".py",
   "mimetype": "text/x-python",
   "name": "python",
   "nbconvert_exporter": "python",
   "pygments_lexer": "ipython3",
   "version": "3.10.18"
  }
 },
 "nbformat": 4,
 "nbformat_minor": 5
}
